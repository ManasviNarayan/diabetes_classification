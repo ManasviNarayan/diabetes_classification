{
 "cells": [
  {
   "cell_type": "markdown",
   "metadata": {},
   "source": [
    "# Diabetes Classification"
   ]
  },
  {
   "cell_type": "markdown",
   "metadata": {},
   "source": [
    "<img src=\"data:image/jpeg;base64,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\" style=\"width:100%\">"
   ]
  },
  {
   "cell_type": "code",
   "execution_count": 1,
   "metadata": {},
   "outputs": [],
   "source": [
    "import numpy as np\n",
    "import pandas as pd\n",
    "import matplotlib.pyplot as plt\n",
    "import seaborn as sns\n",
    "\n",
    "import warnings\n",
    "warnings.filterwarnings('ignore')"
   ]
  },
  {
   "cell_type": "markdown",
   "metadata": {},
   "source": [
    "# The Data\n",
    "We have 8 columns which contain data related to  various factors relating to diabetes.  \n",
    "The outcome columns shows whether the person has diabetes or not.   \n",
    "All the columns are numerical."
   ]
  },
  {
   "cell_type": "code",
   "execution_count": 2,
   "metadata": {},
   "outputs": [
    {
     "data": {
      "text/html": [
       "<div>\n",
       "<style scoped>\n",
       "    .dataframe tbody tr th:only-of-type {\n",
       "        vertical-align: middle;\n",
       "    }\n",
       "\n",
       "    .dataframe tbody tr th {\n",
       "        vertical-align: top;\n",
       "    }\n",
       "\n",
       "    .dataframe thead th {\n",
       "        text-align: right;\n",
       "    }\n",
       "</style>\n",
       "<table border=\"1\" class=\"dataframe\">\n",
       "  <thead>\n",
       "    <tr style=\"text-align: right;\">\n",
       "      <th></th>\n",
       "      <th>Pregnancies</th>\n",
       "      <th>Glucose</th>\n",
       "      <th>BloodPressure</th>\n",
       "      <th>SkinThickness</th>\n",
       "      <th>Insulin</th>\n",
       "      <th>BMI</th>\n",
       "      <th>DiabetesPedigreeFunction</th>\n",
       "      <th>Age</th>\n",
       "      <th>Outcome</th>\n",
       "    </tr>\n",
       "  </thead>\n",
       "  <tbody>\n",
       "    <tr>\n",
       "      <th>0</th>\n",
       "      <td>6</td>\n",
       "      <td>148</td>\n",
       "      <td>72</td>\n",
       "      <td>35</td>\n",
       "      <td>0</td>\n",
       "      <td>33.6</td>\n",
       "      <td>0.627</td>\n",
       "      <td>50</td>\n",
       "      <td>1</td>\n",
       "    </tr>\n",
       "    <tr>\n",
       "      <th>1</th>\n",
       "      <td>1</td>\n",
       "      <td>85</td>\n",
       "      <td>66</td>\n",
       "      <td>29</td>\n",
       "      <td>0</td>\n",
       "      <td>26.6</td>\n",
       "      <td>0.351</td>\n",
       "      <td>31</td>\n",
       "      <td>0</td>\n",
       "    </tr>\n",
       "    <tr>\n",
       "      <th>2</th>\n",
       "      <td>8</td>\n",
       "      <td>183</td>\n",
       "      <td>64</td>\n",
       "      <td>0</td>\n",
       "      <td>0</td>\n",
       "      <td>23.3</td>\n",
       "      <td>0.672</td>\n",
       "      <td>32</td>\n",
       "      <td>1</td>\n",
       "    </tr>\n",
       "    <tr>\n",
       "      <th>3</th>\n",
       "      <td>1</td>\n",
       "      <td>89</td>\n",
       "      <td>66</td>\n",
       "      <td>23</td>\n",
       "      <td>94</td>\n",
       "      <td>28.1</td>\n",
       "      <td>0.167</td>\n",
       "      <td>21</td>\n",
       "      <td>0</td>\n",
       "    </tr>\n",
       "    <tr>\n",
       "      <th>4</th>\n",
       "      <td>0</td>\n",
       "      <td>137</td>\n",
       "      <td>40</td>\n",
       "      <td>35</td>\n",
       "      <td>168</td>\n",
       "      <td>43.1</td>\n",
       "      <td>2.288</td>\n",
       "      <td>33</td>\n",
       "      <td>1</td>\n",
       "    </tr>\n",
       "  </tbody>\n",
       "</table>\n",
       "</div>"
      ],
      "text/plain": [
       "   Pregnancies  Glucose  BloodPressure  SkinThickness  Insulin   BMI  \\\n",
       "0            6      148             72             35        0  33.6   \n",
       "1            1       85             66             29        0  26.6   \n",
       "2            8      183             64              0        0  23.3   \n",
       "3            1       89             66             23       94  28.1   \n",
       "4            0      137             40             35      168  43.1   \n",
       "\n",
       "   DiabetesPedigreeFunction  Age  Outcome  \n",
       "0                     0.627   50        1  \n",
       "1                     0.351   31        0  \n",
       "2                     0.672   32        1  \n",
       "3                     0.167   21        0  \n",
       "4                     2.288   33        1  "
      ]
     },
     "execution_count": 2,
     "metadata": {},
     "output_type": "execute_result"
    }
   ],
   "source": [
    "df = pd.read_csv('diabetes.csv')\n",
    "df.head()"
   ]
  },
  {
   "cell_type": "code",
   "execution_count": 3,
   "metadata": {},
   "outputs": [
    {
     "name": "stdout",
     "output_type": "stream",
     "text": [
      "<class 'pandas.core.frame.DataFrame'>\n",
      "RangeIndex: 768 entries, 0 to 767\n",
      "Data columns (total 9 columns):\n",
      " #   Column                    Non-Null Count  Dtype  \n",
      "---  ------                    --------------  -----  \n",
      " 0   Pregnancies               768 non-null    int64  \n",
      " 1   Glucose                   768 non-null    int64  \n",
      " 2   BloodPressure             768 non-null    int64  \n",
      " 3   SkinThickness             768 non-null    int64  \n",
      " 4   Insulin                   768 non-null    int64  \n",
      " 5   BMI                       768 non-null    float64\n",
      " 6   DiabetesPedigreeFunction  768 non-null    float64\n",
      " 7   Age                       768 non-null    int64  \n",
      " 8   Outcome                   768 non-null    int64  \n",
      "dtypes: float64(2), int64(7)\n",
      "memory usage: 54.1 KB\n"
     ]
    }
   ],
   "source": [
    "df.info()"
   ]
  },
  {
   "cell_type": "code",
   "execution_count": 4,
   "metadata": {},
   "outputs": [
    {
     "data": {
      "text/html": [
       "<div>\n",
       "<style scoped>\n",
       "    .dataframe tbody tr th:only-of-type {\n",
       "        vertical-align: middle;\n",
       "    }\n",
       "\n",
       "    .dataframe tbody tr th {\n",
       "        vertical-align: top;\n",
       "    }\n",
       "\n",
       "    .dataframe thead th {\n",
       "        text-align: right;\n",
       "    }\n",
       "</style>\n",
       "<table border=\"1\" class=\"dataframe\">\n",
       "  <thead>\n",
       "    <tr style=\"text-align: right;\">\n",
       "      <th></th>\n",
       "      <th>Pregnancies</th>\n",
       "      <th>Glucose</th>\n",
       "      <th>BloodPressure</th>\n",
       "      <th>SkinThickness</th>\n",
       "      <th>Insulin</th>\n",
       "      <th>BMI</th>\n",
       "      <th>DiabetesPedigreeFunction</th>\n",
       "      <th>Age</th>\n",
       "      <th>Outcome</th>\n",
       "    </tr>\n",
       "  </thead>\n",
       "  <tbody>\n",
       "    <tr>\n",
       "      <th>count</th>\n",
       "      <td>768.000000</td>\n",
       "      <td>768.000000</td>\n",
       "      <td>768.000000</td>\n",
       "      <td>768.000000</td>\n",
       "      <td>768.000000</td>\n",
       "      <td>768.000000</td>\n",
       "      <td>768.000000</td>\n",
       "      <td>768.000000</td>\n",
       "      <td>768.000000</td>\n",
       "    </tr>\n",
       "    <tr>\n",
       "      <th>mean</th>\n",
       "      <td>3.845052</td>\n",
       "      <td>120.894531</td>\n",
       "      <td>69.105469</td>\n",
       "      <td>20.536458</td>\n",
       "      <td>79.799479</td>\n",
       "      <td>31.992578</td>\n",
       "      <td>0.471876</td>\n",
       "      <td>33.240885</td>\n",
       "      <td>0.348958</td>\n",
       "    </tr>\n",
       "    <tr>\n",
       "      <th>std</th>\n",
       "      <td>3.369578</td>\n",
       "      <td>31.972618</td>\n",
       "      <td>19.355807</td>\n",
       "      <td>15.952218</td>\n",
       "      <td>115.244002</td>\n",
       "      <td>7.884160</td>\n",
       "      <td>0.331329</td>\n",
       "      <td>11.760232</td>\n",
       "      <td>0.476951</td>\n",
       "    </tr>\n",
       "    <tr>\n",
       "      <th>min</th>\n",
       "      <td>0.000000</td>\n",
       "      <td>0.000000</td>\n",
       "      <td>0.000000</td>\n",
       "      <td>0.000000</td>\n",
       "      <td>0.000000</td>\n",
       "      <td>0.000000</td>\n",
       "      <td>0.078000</td>\n",
       "      <td>21.000000</td>\n",
       "      <td>0.000000</td>\n",
       "    </tr>\n",
       "    <tr>\n",
       "      <th>25%</th>\n",
       "      <td>1.000000</td>\n",
       "      <td>99.000000</td>\n",
       "      <td>62.000000</td>\n",
       "      <td>0.000000</td>\n",
       "      <td>0.000000</td>\n",
       "      <td>27.300000</td>\n",
       "      <td>0.243750</td>\n",
       "      <td>24.000000</td>\n",
       "      <td>0.000000</td>\n",
       "    </tr>\n",
       "    <tr>\n",
       "      <th>50%</th>\n",
       "      <td>3.000000</td>\n",
       "      <td>117.000000</td>\n",
       "      <td>72.000000</td>\n",
       "      <td>23.000000</td>\n",
       "      <td>30.500000</td>\n",
       "      <td>32.000000</td>\n",
       "      <td>0.372500</td>\n",
       "      <td>29.000000</td>\n",
       "      <td>0.000000</td>\n",
       "    </tr>\n",
       "    <tr>\n",
       "      <th>75%</th>\n",
       "      <td>6.000000</td>\n",
       "      <td>140.250000</td>\n",
       "      <td>80.000000</td>\n",
       "      <td>32.000000</td>\n",
       "      <td>127.250000</td>\n",
       "      <td>36.600000</td>\n",
       "      <td>0.626250</td>\n",
       "      <td>41.000000</td>\n",
       "      <td>1.000000</td>\n",
       "    </tr>\n",
       "    <tr>\n",
       "      <th>max</th>\n",
       "      <td>17.000000</td>\n",
       "      <td>199.000000</td>\n",
       "      <td>122.000000</td>\n",
       "      <td>99.000000</td>\n",
       "      <td>846.000000</td>\n",
       "      <td>67.100000</td>\n",
       "      <td>2.420000</td>\n",
       "      <td>81.000000</td>\n",
       "      <td>1.000000</td>\n",
       "    </tr>\n",
       "  </tbody>\n",
       "</table>\n",
       "</div>"
      ],
      "text/plain": [
       "       Pregnancies     Glucose  BloodPressure  SkinThickness     Insulin  \\\n",
       "count   768.000000  768.000000     768.000000     768.000000  768.000000   \n",
       "mean      3.845052  120.894531      69.105469      20.536458   79.799479   \n",
       "std       3.369578   31.972618      19.355807      15.952218  115.244002   \n",
       "min       0.000000    0.000000       0.000000       0.000000    0.000000   \n",
       "25%       1.000000   99.000000      62.000000       0.000000    0.000000   \n",
       "50%       3.000000  117.000000      72.000000      23.000000   30.500000   \n",
       "75%       6.000000  140.250000      80.000000      32.000000  127.250000   \n",
       "max      17.000000  199.000000     122.000000      99.000000  846.000000   \n",
       "\n",
       "              BMI  DiabetesPedigreeFunction         Age     Outcome  \n",
       "count  768.000000                768.000000  768.000000  768.000000  \n",
       "mean    31.992578                  0.471876   33.240885    0.348958  \n",
       "std      7.884160                  0.331329   11.760232    0.476951  \n",
       "min      0.000000                  0.078000   21.000000    0.000000  \n",
       "25%     27.300000                  0.243750   24.000000    0.000000  \n",
       "50%     32.000000                  0.372500   29.000000    0.000000  \n",
       "75%     36.600000                  0.626250   41.000000    1.000000  \n",
       "max     67.100000                  2.420000   81.000000    1.000000  "
      ]
     },
     "execution_count": 4,
     "metadata": {},
     "output_type": "execute_result"
    }
   ],
   "source": [
    "df.describe()"
   ]
  },
  {
   "cell_type": "markdown",
   "metadata": {},
   "source": [
    "## Initital findings:\n",
    "- There are missing values in 'Glucose', 'BloodPressure', 'SkinThickness', 'Insulin' and 'BMI' columns\n",
    "- There are outliers in Glucose, BloodPressure, BMI, and DiabetesPedigreeFunction"
   ]
  },
  {
   "cell_type": "code",
   "execution_count": 5,
   "metadata": {},
   "outputs": [
    {
     "data": {
      "text/html": [
       "<div>\n",
       "<style scoped>\n",
       "    .dataframe tbody tr th:only-of-type {\n",
       "        vertical-align: middle;\n",
       "    }\n",
       "\n",
       "    .dataframe tbody tr th {\n",
       "        vertical-align: top;\n",
       "    }\n",
       "\n",
       "    .dataframe thead th {\n",
       "        text-align: right;\n",
       "    }\n",
       "</style>\n",
       "<table border=\"1\" class=\"dataframe\">\n",
       "  <thead>\n",
       "    <tr style=\"text-align: right;\">\n",
       "      <th></th>\n",
       "      <th>Pregnancies</th>\n",
       "      <th>Glucose</th>\n",
       "      <th>BloodPressure</th>\n",
       "      <th>SkinThickness</th>\n",
       "      <th>Insulin</th>\n",
       "      <th>BMI</th>\n",
       "      <th>DiabetesPedigreeFunction</th>\n",
       "      <th>Age</th>\n",
       "      <th>Outcome</th>\n",
       "    </tr>\n",
       "  </thead>\n",
       "  <tbody>\n",
       "    <tr>\n",
       "      <th>0</th>\n",
       "      <td>6</td>\n",
       "      <td>148.0</td>\n",
       "      <td>72.0</td>\n",
       "      <td>35.0</td>\n",
       "      <td>NaN</td>\n",
       "      <td>33.6</td>\n",
       "      <td>0.627</td>\n",
       "      <td>50</td>\n",
       "      <td>1</td>\n",
       "    </tr>\n",
       "    <tr>\n",
       "      <th>1</th>\n",
       "      <td>1</td>\n",
       "      <td>85.0</td>\n",
       "      <td>66.0</td>\n",
       "      <td>29.0</td>\n",
       "      <td>NaN</td>\n",
       "      <td>26.6</td>\n",
       "      <td>0.351</td>\n",
       "      <td>31</td>\n",
       "      <td>0</td>\n",
       "    </tr>\n",
       "    <tr>\n",
       "      <th>2</th>\n",
       "      <td>8</td>\n",
       "      <td>183.0</td>\n",
       "      <td>64.0</td>\n",
       "      <td>NaN</td>\n",
       "      <td>NaN</td>\n",
       "      <td>23.3</td>\n",
       "      <td>0.672</td>\n",
       "      <td>32</td>\n",
       "      <td>1</td>\n",
       "    </tr>\n",
       "    <tr>\n",
       "      <th>3</th>\n",
       "      <td>1</td>\n",
       "      <td>89.0</td>\n",
       "      <td>66.0</td>\n",
       "      <td>23.0</td>\n",
       "      <td>94.0</td>\n",
       "      <td>28.1</td>\n",
       "      <td>0.167</td>\n",
       "      <td>21</td>\n",
       "      <td>0</td>\n",
       "    </tr>\n",
       "    <tr>\n",
       "      <th>4</th>\n",
       "      <td>0</td>\n",
       "      <td>137.0</td>\n",
       "      <td>40.0</td>\n",
       "      <td>35.0</td>\n",
       "      <td>168.0</td>\n",
       "      <td>43.1</td>\n",
       "      <td>2.288</td>\n",
       "      <td>33</td>\n",
       "      <td>1</td>\n",
       "    </tr>\n",
       "  </tbody>\n",
       "</table>\n",
       "</div>"
      ],
      "text/plain": [
       "   Pregnancies  Glucose  BloodPressure  SkinThickness  Insulin   BMI  \\\n",
       "0            6    148.0           72.0           35.0      NaN  33.6   \n",
       "1            1     85.0           66.0           29.0      NaN  26.6   \n",
       "2            8    183.0           64.0            NaN      NaN  23.3   \n",
       "3            1     89.0           66.0           23.0     94.0  28.1   \n",
       "4            0    137.0           40.0           35.0    168.0  43.1   \n",
       "\n",
       "   DiabetesPedigreeFunction  Age  Outcome  \n",
       "0                     0.627   50        1  \n",
       "1                     0.351   31        0  \n",
       "2                     0.672   32        1  \n",
       "3                     0.167   21        0  \n",
       "4                     2.288   33        1  "
      ]
     },
     "execution_count": 5,
     "metadata": {},
     "output_type": "execute_result"
    }
   ],
   "source": [
    "col = ['Glucose', 'BloodPressure', 'SkinThickness', 'Insulin', 'BMI']\n",
    "for i in col:\n",
    "    df[i] = df[i].apply(lambda x: np.NaN if x==0 else x)\n",
    "df.head()"
   ]
  },
  {
   "cell_type": "code",
   "execution_count": 6,
   "metadata": {},
   "outputs": [
    {
     "name": "stdout",
     "output_type": "stream",
     "text": [
      "Missing Values\n"
     ]
    },
    {
     "data": {
      "text/plain": [
       "Pregnancies                   0\n",
       "Glucose                       5\n",
       "BloodPressure                35\n",
       "SkinThickness               227\n",
       "Insulin                     374\n",
       "BMI                          11\n",
       "DiabetesPedigreeFunction      0\n",
       "Age                           0\n",
       "Outcome                       0\n",
       "dtype: int64"
      ]
     },
     "execution_count": 6,
     "metadata": {},
     "output_type": "execute_result"
    }
   ],
   "source": [
    "print('Missing Values')\n",
    "df.isna().sum()"
   ]
  },
  {
   "cell_type": "markdown",
   "metadata": {},
   "source": [
    "## Handling Missing Values\n",
    "Since `Insulin` and `SkinThickness` have too many missing values, these columns are dropped. "
   ]
  },
  {
   "cell_type": "code",
   "execution_count": 7,
   "metadata": {},
   "outputs": [
    {
     "data": {
      "text/html": [
       "<div>\n",
       "<style scoped>\n",
       "    .dataframe tbody tr th:only-of-type {\n",
       "        vertical-align: middle;\n",
       "    }\n",
       "\n",
       "    .dataframe tbody tr th {\n",
       "        vertical-align: top;\n",
       "    }\n",
       "\n",
       "    .dataframe thead th {\n",
       "        text-align: right;\n",
       "    }\n",
       "</style>\n",
       "<table border=\"1\" class=\"dataframe\">\n",
       "  <thead>\n",
       "    <tr style=\"text-align: right;\">\n",
       "      <th></th>\n",
       "      <th>Pregnancies</th>\n",
       "      <th>Glucose</th>\n",
       "      <th>BloodPressure</th>\n",
       "      <th>BMI</th>\n",
       "      <th>DiabetesPedigreeFunction</th>\n",
       "      <th>Age</th>\n",
       "      <th>Outcome</th>\n",
       "    </tr>\n",
       "  </thead>\n",
       "  <tbody>\n",
       "    <tr>\n",
       "      <th>0</th>\n",
       "      <td>6</td>\n",
       "      <td>148.0</td>\n",
       "      <td>72.0</td>\n",
       "      <td>33.6</td>\n",
       "      <td>0.627</td>\n",
       "      <td>50</td>\n",
       "      <td>1</td>\n",
       "    </tr>\n",
       "    <tr>\n",
       "      <th>1</th>\n",
       "      <td>1</td>\n",
       "      <td>85.0</td>\n",
       "      <td>66.0</td>\n",
       "      <td>26.6</td>\n",
       "      <td>0.351</td>\n",
       "      <td>31</td>\n",
       "      <td>0</td>\n",
       "    </tr>\n",
       "    <tr>\n",
       "      <th>2</th>\n",
       "      <td>8</td>\n",
       "      <td>183.0</td>\n",
       "      <td>64.0</td>\n",
       "      <td>23.3</td>\n",
       "      <td>0.672</td>\n",
       "      <td>32</td>\n",
       "      <td>1</td>\n",
       "    </tr>\n",
       "    <tr>\n",
       "      <th>3</th>\n",
       "      <td>1</td>\n",
       "      <td>89.0</td>\n",
       "      <td>66.0</td>\n",
       "      <td>28.1</td>\n",
       "      <td>0.167</td>\n",
       "      <td>21</td>\n",
       "      <td>0</td>\n",
       "    </tr>\n",
       "    <tr>\n",
       "      <th>4</th>\n",
       "      <td>0</td>\n",
       "      <td>137.0</td>\n",
       "      <td>40.0</td>\n",
       "      <td>43.1</td>\n",
       "      <td>2.288</td>\n",
       "      <td>33</td>\n",
       "      <td>1</td>\n",
       "    </tr>\n",
       "  </tbody>\n",
       "</table>\n",
       "</div>"
      ],
      "text/plain": [
       "   Pregnancies  Glucose  BloodPressure   BMI  DiabetesPedigreeFunction  Age  \\\n",
       "0            6    148.0           72.0  33.6                     0.627   50   \n",
       "1            1     85.0           66.0  26.6                     0.351   31   \n",
       "2            8    183.0           64.0  23.3                     0.672   32   \n",
       "3            1     89.0           66.0  28.1                     0.167   21   \n",
       "4            0    137.0           40.0  43.1                     2.288   33   \n",
       "\n",
       "   Outcome  \n",
       "0        1  \n",
       "1        0  \n",
       "2        1  \n",
       "3        0  \n",
       "4        1  "
      ]
     },
     "execution_count": 7,
     "metadata": {},
     "output_type": "execute_result"
    }
   ],
   "source": [
    "df.drop(['Insulin', 'SkinThickness'], axis=1, inplace=True)\n",
    "df.head()"
   ]
  },
  {
   "cell_type": "code",
   "execution_count": 8,
   "metadata": {},
   "outputs": [
    {
     "data": {
      "text/plain": [
       "Pregnancies                  0\n",
       "Glucose                      5\n",
       "BloodPressure               35\n",
       "BMI                         11\n",
       "DiabetesPedigreeFunction     0\n",
       "Age                          0\n",
       "Outcome                      0\n",
       "dtype: int64"
      ]
     },
     "execution_count": 8,
     "metadata": {},
     "output_type": "execute_result"
    }
   ],
   "source": [
    "df.isna().sum()\n"
   ]
  },
  {
   "cell_type": "code",
   "execution_count": 9,
   "metadata": {},
   "outputs": [
    {
     "data": {
      "text/html": [
       "<div>\n",
       "<style scoped>\n",
       "    .dataframe tbody tr th:only-of-type {\n",
       "        vertical-align: middle;\n",
       "    }\n",
       "\n",
       "    .dataframe tbody tr th {\n",
       "        vertical-align: top;\n",
       "    }\n",
       "\n",
       "    .dataframe thead th {\n",
       "        text-align: right;\n",
       "    }\n",
       "</style>\n",
       "<table border=\"1\" class=\"dataframe\">\n",
       "  <thead>\n",
       "    <tr style=\"text-align: right;\">\n",
       "      <th></th>\n",
       "      <th>Pregnancies</th>\n",
       "      <th>Glucose</th>\n",
       "      <th>BloodPressure</th>\n",
       "      <th>BMI</th>\n",
       "      <th>DiabetesPedigreeFunction</th>\n",
       "      <th>Age</th>\n",
       "      <th>Outcome</th>\n",
       "    </tr>\n",
       "  </thead>\n",
       "  <tbody>\n",
       "    <tr>\n",
       "      <th>Pregnancies</th>\n",
       "      <td>1.000000</td>\n",
       "      <td>0.128135</td>\n",
       "      <td>0.214178</td>\n",
       "      <td>0.021719</td>\n",
       "      <td>-0.033523</td>\n",
       "      <td>0.544341</td>\n",
       "      <td>0.221898</td>\n",
       "    </tr>\n",
       "    <tr>\n",
       "      <th>Glucose</th>\n",
       "      <td>0.128135</td>\n",
       "      <td>1.000000</td>\n",
       "      <td>0.223192</td>\n",
       "      <td>0.232771</td>\n",
       "      <td>0.137246</td>\n",
       "      <td>0.267136</td>\n",
       "      <td>0.494650</td>\n",
       "    </tr>\n",
       "    <tr>\n",
       "      <th>BloodPressure</th>\n",
       "      <td>0.214178</td>\n",
       "      <td>0.223192</td>\n",
       "      <td>1.000000</td>\n",
       "      <td>0.289230</td>\n",
       "      <td>-0.002805</td>\n",
       "      <td>0.330107</td>\n",
       "      <td>0.170589</td>\n",
       "    </tr>\n",
       "    <tr>\n",
       "      <th>BMI</th>\n",
       "      <td>0.021719</td>\n",
       "      <td>0.232771</td>\n",
       "      <td>0.289230</td>\n",
       "      <td>1.000000</td>\n",
       "      <td>0.155382</td>\n",
       "      <td>0.025841</td>\n",
       "      <td>0.313680</td>\n",
       "    </tr>\n",
       "    <tr>\n",
       "      <th>DiabetesPedigreeFunction</th>\n",
       "      <td>-0.033523</td>\n",
       "      <td>0.137246</td>\n",
       "      <td>-0.002805</td>\n",
       "      <td>0.155382</td>\n",
       "      <td>1.000000</td>\n",
       "      <td>0.033561</td>\n",
       "      <td>0.173844</td>\n",
       "    </tr>\n",
       "    <tr>\n",
       "      <th>Age</th>\n",
       "      <td>0.544341</td>\n",
       "      <td>0.267136</td>\n",
       "      <td>0.330107</td>\n",
       "      <td>0.025841</td>\n",
       "      <td>0.033561</td>\n",
       "      <td>1.000000</td>\n",
       "      <td>0.238356</td>\n",
       "    </tr>\n",
       "    <tr>\n",
       "      <th>Outcome</th>\n",
       "      <td>0.221898</td>\n",
       "      <td>0.494650</td>\n",
       "      <td>0.170589</td>\n",
       "      <td>0.313680</td>\n",
       "      <td>0.173844</td>\n",
       "      <td>0.238356</td>\n",
       "      <td>1.000000</td>\n",
       "    </tr>\n",
       "  </tbody>\n",
       "</table>\n",
       "</div>"
      ],
      "text/plain": [
       "                          Pregnancies   Glucose  BloodPressure       BMI  \\\n",
       "Pregnancies                  1.000000  0.128135       0.214178  0.021719   \n",
       "Glucose                      0.128135  1.000000       0.223192  0.232771   \n",
       "BloodPressure                0.214178  0.223192       1.000000  0.289230   \n",
       "BMI                          0.021719  0.232771       0.289230  1.000000   \n",
       "DiabetesPedigreeFunction    -0.033523  0.137246      -0.002805  0.155382   \n",
       "Age                          0.544341  0.267136       0.330107  0.025841   \n",
       "Outcome                      0.221898  0.494650       0.170589  0.313680   \n",
       "\n",
       "                          DiabetesPedigreeFunction       Age   Outcome  \n",
       "Pregnancies                              -0.033523  0.544341  0.221898  \n",
       "Glucose                                   0.137246  0.267136  0.494650  \n",
       "BloodPressure                            -0.002805  0.330107  0.170589  \n",
       "BMI                                       0.155382  0.025841  0.313680  \n",
       "DiabetesPedigreeFunction                  1.000000  0.033561  0.173844  \n",
       "Age                                       0.033561  1.000000  0.238356  \n",
       "Outcome                                   0.173844  0.238356  1.000000  "
      ]
     },
     "execution_count": 9,
     "metadata": {},
     "output_type": "execute_result"
    }
   ],
   "source": [
    "df.corr()"
   ]
  },
  {
   "cell_type": "code",
   "execution_count": 10,
   "metadata": {},
   "outputs": [
    {
     "data": {
      "text/plain": [
       "<AxesSubplot:>"
      ]
     },
     "execution_count": 10,
     "metadata": {},
     "output_type": "execute_result"
    },
    {
     "data": {
      "image/png": "[encoded data removed]",
      "text/plain": [
       "<Figure size 1080x504 with 2 Axes>"
      ]
     },
     "metadata": {
      "needs_background": "light"
     },
     "output_type": "display_data"
    }
   ],
   "source": [
    "sns.set_palette('magma')\n",
    "x = np.triu(df.corr())\n",
    "plt.figure(figsize=(15,7))\n",
    "sns.heatmap(df.corr(), mask = x, annot=True, center=0)"
   ]
  },
  {
   "cell_type": "code",
   "execution_count": 13,
   "metadata": {},
   "outputs": [
    {
     "data": {
      "image/png": "[encoded data removed]",
      "text/plain": [
       "<Figure size 1440x720 with 12 Axes>"
      ]
     },
     "metadata": {
      "needs_background": "light"
     },
     "output_type": "display_data"
    }
   ],
   "source": [
    "colors = sns.color_palette('tab10')\n",
    "cols = list(df.columns)\n",
    "cols.remove('Outcome')\n",
    "fig, axs = plt.subplots(nrows=2, ncols=len(cols),figsize=(20, 10))\n",
    "for i,col in enumerate(cols):\n",
    "    sns.boxplot(data=df, x=col, ax = axs[0,i], color=colors[i])\n",
    "    sns.histplot(data=df, x=col, ax=axs[1,i], multiple='dodge', color=colors[i], kde=True)\n"
   ]
  },
  {
   "cell_type": "markdown",
   "metadata": {},
   "source": [
    "## Handling Outliers\n",
    "columns `Pregnancies`, `BloodPressure`, `BMI` and `DiabetesPedigreeFunction` have outliers.  \n",
    "Values of ouliers are capped at appropriate values accordingly."
   ]
  },
  {
   "cell_type": "code",
   "execution_count": 14,
   "metadata": {},
   "outputs": [],
   "source": [
    "uv = df['Pregnancies'].quantile(0.99)\n",
    "df.drop(df[df.Pregnancies>uv].index, axis=0, inplace=True)"
   ]
  },
  {
   "cell_type": "code",
   "execution_count": 15,
   "metadata": {},
   "outputs": [
    {
     "data": {
      "text/plain": [
       "(106.0, 44.0)"
      ]
     },
     "execution_count": 15,
     "metadata": {},
     "output_type": "execute_result"
    }
   ],
   "source": [
    "uv = df.BloodPressure.quantile(0.99)\n",
    "lv = df.BloodPressure.quantile(0.01)\n",
    "df['BloodPressure'][df.BloodPressure>uv] = uv\n",
    "df['BloodPressure'][df.BloodPressure < lv] = lv\n",
    "uv, lv\n"
   ]
  },
  {
   "cell_type": "code",
   "execution_count": 16,
   "metadata": {},
   "outputs": [
    {
     "data": {
      "text/plain": [
       "51.10400000000004"
      ]
     },
     "execution_count": 16,
     "metadata": {},
     "output_type": "execute_result"
    }
   ],
   "source": [
    "uv = df.BMI.quantile(0.99)\n",
    "df.BMI[df.BMI>uv] = uv\n",
    "uv\n"
   ]
  },
  {
   "cell_type": "code",
   "execution_count": 17,
   "metadata": {},
   "outputs": [],
   "source": [
    "uv = df.DiabetesPedigreeFunction.quantile(0.96)\n",
    "df.DiabetesPedigreeFunction[df.DiabetesPedigreeFunction > uv] = uv\n"
   ]
  },
  {
   "cell_type": "code",
   "execution_count": 18,
   "metadata": {},
   "outputs": [
    {
     "data": {
      "image/png": "[encoded data removed]",
      "text/plain": [
       "<Figure size 1440x720 with 12 Axes>"
      ]
     },
     "metadata": {},
     "output_type": "display_data"
    }
   ],
   "source": [
    "colors = sns.color_palette('Set3')\n",
    "sns.set_style('white')\n",
    "cols = list(df.columns)\n",
    "cols.remove('Outcome')\n",
    "\n",
    "fig, axs = plt.subplots(nrows=2, ncols=len(cols), figsize=(20, 10))\n",
    "for i, col in enumerate(cols):\n",
    "    sns.boxplot(data=df, x=col, ax=axs[0, i], color=colors[i])\n",
    "    sns.histplot(data=df, x=col, ax=axs[1, i], color=colors[i], kde=True)\n"
   ]
  },
  {
   "cell_type": "markdown",
   "metadata": {},
   "source": [
    "## Factors related to diabetes"
   ]
  },
  {
   "cell_type": "code",
   "execution_count": 19,
   "metadata": {},
   "outputs": [
    {
     "data": {
      "image/png": "[encoded data removed]",
      "text/plain": [
       "<Figure size 1080x1800 with 6 Axes>"
      ]
     },
     "metadata": {},
     "output_type": "display_data"
    }
   ],
   "source": [
    "sns.set_palette('Set2')\n",
    "sns.set_style('whitegrid')\n",
    "fig, axs = plt.subplots(nrows=6, figsize=(15, 25))\n",
    "for i, col in enumerate(cols):\n",
    "    sns.histplot(data=df, x=col, hue='Outcome', ax=axs[i], multiple='dodge')\n",
    "fig.tight_layout()\n"
   ]
  },
  {
   "cell_type": "code",
   "execution_count": 20,
   "metadata": {},
   "outputs": [],
   "source": [
    "sns.set_palette('Set3')\n",
    "sns.set_style('dark')\n",
    "sns.pairplot(df, hue = 'Outcome')"
   ]
  },
  {
   "cell_type": "markdown",
   "metadata": {},
   "source": [
    "# Imputation"
   ]
  },
  {
   "cell_type": "code",
   "execution_count": 23,
   "metadata": {},
   "outputs": [],
   "source": [
    "cols = ['BMI', 'Glucose', 'BloodPressure']\n",
    "for i in cols:\n",
    "    df.fillna(df[i].median(), inplace=True)"
   ]
  },
  {
   "cell_type": "code",
   "execution_count": 24,
   "metadata": {},
   "outputs": [
    {
     "name": "stdout",
     "output_type": "stream",
     "text": [
      "<class 'pandas.core.frame.DataFrame'>\n",
      "Int64Index: 764 entries, 0 to 767\n",
      "Data columns (total 7 columns):\n",
      " #   Column                    Non-Null Count  Dtype  \n",
      "---  ------                    --------------  -----  \n",
      " 0   Pregnancies               764 non-null    int64  \n",
      " 1   Glucose                   764 non-null    float64\n",
      " 2   BloodPressure             764 non-null    float64\n",
      " 3   BMI                       764 non-null    float64\n",
      " 4   DiabetesPedigreeFunction  764 non-null    float64\n",
      " 5   Age                       764 non-null    int64  \n",
      " 6   Outcome                   764 non-null    int64  \n",
      "dtypes: float64(4), int64(3)\n",
      "memory usage: 47.8 KB\n"
     ]
    }
   ],
   "source": [
    "df.info()"
   ]
  },
  {
   "cell_type": "markdown",
   "metadata": {},
   "source": [
    "# Model selection"
   ]
  },
  {
   "cell_type": "code",
   "execution_count": 25,
   "metadata": {},
   "outputs": [],
   "source": [
    "from sklearn.model_selection import train_test_split\n",
    "cols = list(df.columns)\n",
    "cols.remove('Outcome')\n",
    "X = df[cols]\n",
    "y = df['Outcome']\n",
    "X_train, X_test, y_train, y_test = train_test_split(X,y, test_size=0.2, random_state=0)"
   ]
  },
  {
   "cell_type": "code",
   "execution_count": 26,
   "metadata": {},
   "outputs": [
    {
     "data": {
      "text/html": [
       "<div>\n",
       "<style scoped>\n",
       "    .dataframe tbody tr th:only-of-type {\n",
       "        vertical-align: middle;\n",
       "    }\n",
       "\n",
       "    .dataframe tbody tr th {\n",
       "        vertical-align: top;\n",
       "    }\n",
       "\n",
       "    .dataframe thead th {\n",
       "        text-align: right;\n",
       "    }\n",
       "</style>\n",
       "<table border=\"1\" class=\"dataframe\">\n",
       "  <thead>\n",
       "    <tr style=\"text-align: right;\">\n",
       "      <th></th>\n",
       "      <th>Pregnancies</th>\n",
       "      <th>Glucose</th>\n",
       "      <th>BloodPressure</th>\n",
       "      <th>BMI</th>\n",
       "      <th>DiabetesPedigreeFunction</th>\n",
       "      <th>Age</th>\n",
       "    </tr>\n",
       "  </thead>\n",
       "  <tbody>\n",
       "    <tr>\n",
       "      <th>count</th>\n",
       "      <td>764.000000</td>\n",
       "      <td>764.000000</td>\n",
       "      <td>764.000000</td>\n",
       "      <td>764.000000</td>\n",
       "      <td>764.000000</td>\n",
       "      <td>764.000000</td>\n",
       "    </tr>\n",
       "    <tr>\n",
       "      <th>mean</th>\n",
       "      <td>3.786649</td>\n",
       "      <td>120.986911</td>\n",
       "      <td>70.596859</td>\n",
       "      <td>32.376482</td>\n",
       "      <td>0.458663</td>\n",
       "      <td>33.187173</td>\n",
       "    </tr>\n",
       "    <tr>\n",
       "      <th>std</th>\n",
       "      <td>3.278714</td>\n",
       "      <td>31.246474</td>\n",
       "      <td>14.433752</td>\n",
       "      <td>6.698269</td>\n",
       "      <td>0.284227</td>\n",
       "      <td>11.764745</td>\n",
       "    </tr>\n",
       "    <tr>\n",
       "      <th>min</th>\n",
       "      <td>0.000000</td>\n",
       "      <td>32.200000</td>\n",
       "      <td>32.200000</td>\n",
       "      <td>18.200000</td>\n",
       "      <td>0.078000</td>\n",
       "      <td>21.000000</td>\n",
       "    </tr>\n",
       "    <tr>\n",
       "      <th>25%</th>\n",
       "      <td>1.000000</td>\n",
       "      <td>99.000000</td>\n",
       "      <td>62.000000</td>\n",
       "      <td>27.500000</td>\n",
       "      <td>0.244000</td>\n",
       "      <td>24.000000</td>\n",
       "    </tr>\n",
       "    <tr>\n",
       "      <th>50%</th>\n",
       "      <td>3.000000</td>\n",
       "      <td>117.000000</td>\n",
       "      <td>72.000000</td>\n",
       "      <td>32.200000</td>\n",
       "      <td>0.372500</td>\n",
       "      <td>29.000000</td>\n",
       "    </tr>\n",
       "    <tr>\n",
       "      <th>75%</th>\n",
       "      <td>6.000000</td>\n",
       "      <td>140.000000</td>\n",
       "      <td>80.000000</td>\n",
       "      <td>36.500000</td>\n",
       "      <td>0.626250</td>\n",
       "      <td>40.250000</td>\n",
       "    </tr>\n",
       "    <tr>\n",
       "      <th>max</th>\n",
       "      <td>13.000000</td>\n",
       "      <td>199.000000</td>\n",
       "      <td>106.000000</td>\n",
       "      <td>51.104000</td>\n",
       "      <td>1.185360</td>\n",
       "      <td>81.000000</td>\n",
       "    </tr>\n",
       "  </tbody>\n",
       "</table>\n",
       "</div>"
      ],
      "text/plain": [
       "       Pregnancies     Glucose  BloodPressure         BMI  \\\n",
       "count   764.000000  764.000000     764.000000  764.000000   \n",
       "mean      3.786649  120.986911      70.596859   32.376482   \n",
       "std       3.278714   31.246474      14.433752    6.698269   \n",
       "min       0.000000   32.200000      32.200000   18.200000   \n",
       "25%       1.000000   99.000000      62.000000   27.500000   \n",
       "50%       3.000000  117.000000      72.000000   32.200000   \n",
       "75%       6.000000  140.000000      80.000000   36.500000   \n",
       "max      13.000000  199.000000     106.000000   51.104000   \n",
       "\n",
       "       DiabetesPedigreeFunction         Age  \n",
       "count                764.000000  764.000000  \n",
       "mean                   0.458663   33.187173  \n",
       "std                    0.284227   11.764745  \n",
       "min                    0.078000   21.000000  \n",
       "25%                    0.244000   24.000000  \n",
       "50%                    0.372500   29.000000  \n",
       "75%                    0.626250   40.250000  \n",
       "max                    1.185360   81.000000  "
      ]
     },
     "execution_count": 26,
     "metadata": {},
     "output_type": "execute_result"
    }
   ],
   "source": [
    "X.describe()"
   ]
  },
  {
   "cell_type": "code",
   "execution_count": 27,
   "metadata": {},
   "outputs": [
    {
     "data": {
      "text/html": [
       "<div>\n",
       "<style scoped>\n",
       "    .dataframe tbody tr th:only-of-type {\n",
       "        vertical-align: middle;\n",
       "    }\n",
       "\n",
       "    .dataframe tbody tr th {\n",
       "        vertical-align: top;\n",
       "    }\n",
       "\n",
       "    .dataframe thead th {\n",
       "        text-align: right;\n",
       "    }\n",
       "</style>\n",
       "<table border=\"1\" class=\"dataframe\">\n",
       "  <thead>\n",
       "    <tr style=\"text-align: right;\">\n",
       "      <th></th>\n",
       "      <th>Pregnancies</th>\n",
       "      <th>Glucose</th>\n",
       "      <th>BloodPressure</th>\n",
       "      <th>BMI</th>\n",
       "      <th>DiabetesPedigreeFunction</th>\n",
       "      <th>Age</th>\n",
       "    </tr>\n",
       "  </thead>\n",
       "  <tbody>\n",
       "    <tr>\n",
       "      <th>0</th>\n",
       "      <td>0.675509</td>\n",
       "      <td>0.865083</td>\n",
       "      <td>0.097276</td>\n",
       "      <td>0.182782</td>\n",
       "      <td>0.592652</td>\n",
       "      <td>1.430022</td>\n",
       "    </tr>\n",
       "    <tr>\n",
       "      <th>1</th>\n",
       "      <td>-0.850478</td>\n",
       "      <td>-1.152466</td>\n",
       "      <td>-0.318688</td>\n",
       "      <td>-0.862949</td>\n",
       "      <td>-0.379039</td>\n",
       "      <td>-0.186031</td>\n",
       "    </tr>\n",
       "    <tr>\n",
       "      <th>2</th>\n",
       "      <td>1.285904</td>\n",
       "      <td>1.985943</td>\n",
       "      <td>-0.457343</td>\n",
       "      <td>-1.355937</td>\n",
       "      <td>0.751080</td>\n",
       "      <td>-0.100975</td>\n",
       "    </tr>\n",
       "    <tr>\n",
       "      <th>3</th>\n",
       "      <td>-0.850478</td>\n",
       "      <td>-1.024367</td>\n",
       "      <td>-0.318688</td>\n",
       "      <td>-0.638864</td>\n",
       "      <td>-1.026833</td>\n",
       "      <td>-1.036585</td>\n",
       "    </tr>\n",
       "    <tr>\n",
       "      <th>4</th>\n",
       "      <td>-1.155676</td>\n",
       "      <td>0.512812</td>\n",
       "      <td>-1.843892</td>\n",
       "      <td>1.601987</td>\n",
       "      <td>2.558425</td>\n",
       "      <td>-0.015920</td>\n",
       "    </tr>\n",
       "  </tbody>\n",
       "</table>\n",
       "</div>"
      ],
      "text/plain": [
       "   Pregnancies   Glucose  BloodPressure       BMI  DiabetesPedigreeFunction  \\\n",
       "0     0.675509  0.865083       0.097276  0.182782                  0.592652   \n",
       "1    -0.850478 -1.152466      -0.318688 -0.862949                 -0.379039   \n",
       "2     1.285904  1.985943      -0.457343 -1.355937                  0.751080   \n",
       "3    -0.850478 -1.024367      -0.318688 -0.638864                 -1.026833   \n",
       "4    -1.155676  0.512812      -1.843892  1.601987                  2.558425   \n",
       "\n",
       "        Age  \n",
       "0  1.430022  \n",
       "1 -0.186031  \n",
       "2 -0.100975  \n",
       "3 -1.036585  \n",
       "4 -0.015920  "
      ]
     },
     "execution_count": 27,
     "metadata": {},
     "output_type": "execute_result"
    }
   ],
   "source": [
    "from sklearn.preprocessing import StandardScaler\n",
    "stdsc = StandardScaler()\n",
    "cols = X.columns\n",
    "X = stdsc.fit_transform(X)\n",
    "X = pd.DataFrame(X, columns = list(cols))\n",
    "X.head()"
   ]
  },
  {
   "cell_type": "code",
   "execution_count": 28,
   "metadata": {},
   "outputs": [
    {
     "data": {
      "text/html": [
       "<div>\n",
       "<style scoped>\n",
       "    .dataframe tbody tr th:only-of-type {\n",
       "        vertical-align: middle;\n",
       "    }\n",
       "\n",
       "    .dataframe tbody tr th {\n",
       "        vertical-align: top;\n",
       "    }\n",
       "\n",
       "    .dataframe thead th {\n",
       "        text-align: right;\n",
       "    }\n",
       "</style>\n",
       "<table border=\"1\" class=\"dataframe\">\n",
       "  <thead>\n",
       "    <tr style=\"text-align: right;\">\n",
       "      <th></th>\n",
       "      <th>Pregnancies</th>\n",
       "      <th>Glucose</th>\n",
       "      <th>BloodPressure</th>\n",
       "      <th>BMI</th>\n",
       "      <th>DiabetesPedigreeFunction</th>\n",
       "      <th>Age</th>\n",
       "    </tr>\n",
       "  </thead>\n",
       "  <tbody>\n",
       "    <tr>\n",
       "      <th>count</th>\n",
       "      <td>7.640000e+02</td>\n",
       "      <td>7.640000e+02</td>\n",
       "      <td>7.640000e+02</td>\n",
       "      <td>7.640000e+02</td>\n",
       "      <td>7.640000e+02</td>\n",
       "      <td>7.640000e+02</td>\n",
       "    </tr>\n",
       "    <tr>\n",
       "      <th>mean</th>\n",
       "      <td>1.860060e-17</td>\n",
       "      <td>-1.069534e-16</td>\n",
       "      <td>-1.162537e-18</td>\n",
       "      <td>3.696868e-16</td>\n",
       "      <td>1.162537e-17</td>\n",
       "      <td>-1.209039e-16</td>\n",
       "    </tr>\n",
       "    <tr>\n",
       "      <th>std</th>\n",
       "      <td>1.000655e+00</td>\n",
       "      <td>1.000655e+00</td>\n",
       "      <td>1.000655e+00</td>\n",
       "      <td>1.000655e+00</td>\n",
       "      <td>1.000655e+00</td>\n",
       "      <td>1.000655e+00</td>\n",
       "    </tr>\n",
       "    <tr>\n",
       "      <th>min</th>\n",
       "      <td>-1.155676e+00</td>\n",
       "      <td>-2.843363e+00</td>\n",
       "      <td>-2.661956e+00</td>\n",
       "      <td>-2.117826e+00</td>\n",
       "      <td>-1.340168e+00</td>\n",
       "      <td>-1.036585e+00</td>\n",
       "    </tr>\n",
       "    <tr>\n",
       "      <th>25%</th>\n",
       "      <td>-8.504782e-01</td>\n",
       "      <td>-7.041215e-01</td>\n",
       "      <td>-5.959982e-01</td>\n",
       "      <td>-7.284981e-01</td>\n",
       "      <td>-7.557450e-01</td>\n",
       "      <td>-7.814187e-01</td>\n",
       "    </tr>\n",
       "    <tr>\n",
       "      <th>50%</th>\n",
       "      <td>-2.400833e-01</td>\n",
       "      <td>-1.276791e-01</td>\n",
       "      <td>9.727620e-02</td>\n",
       "      <td>-2.636462e-02</td>\n",
       "      <td>-3.033454e-01</td>\n",
       "      <td>-3.561417e-01</td>\n",
       "    </tr>\n",
       "    <tr>\n",
       "      <th>75%</th>\n",
       "      <td>6.755090e-01</td>\n",
       "      <td>6.088861e-01</td>\n",
       "      <td>6.518957e-01</td>\n",
       "      <td>6.160128e-01</td>\n",
       "      <td>5.900118e-01</td>\n",
       "      <td>6.007316e-01</td>\n",
       "    </tr>\n",
       "    <tr>\n",
       "      <th>max</th>\n",
       "      <td>2.811891e+00</td>\n",
       "      <td>2.498336e+00</td>\n",
       "      <td>2.454409e+00</td>\n",
       "      <td>2.797706e+00</td>\n",
       "      <td>2.558425e+00</td>\n",
       "      <td>4.066739e+00</td>\n",
       "    </tr>\n",
       "  </tbody>\n",
       "</table>\n",
       "</div>"
      ],
      "text/plain": [
       "        Pregnancies       Glucose  BloodPressure           BMI  \\\n",
       "count  7.640000e+02  7.640000e+02   7.640000e+02  7.640000e+02   \n",
       "mean   1.860060e-17 -1.069534e-16  -1.162537e-18  3.696868e-16   \n",
       "std    1.000655e+00  1.000655e+00   1.000655e+00  1.000655e+00   \n",
       "min   -1.155676e+00 -2.843363e+00  -2.661956e+00 -2.117826e+00   \n",
       "25%   -8.504782e-01 -7.041215e-01  -5.959982e-01 -7.284981e-01   \n",
       "50%   -2.400833e-01 -1.276791e-01   9.727620e-02 -2.636462e-02   \n",
       "75%    6.755090e-01  6.088861e-01   6.518957e-01  6.160128e-01   \n",
       "max    2.811891e+00  2.498336e+00   2.454409e+00  2.797706e+00   \n",
       "\n",
       "       DiabetesPedigreeFunction           Age  \n",
       "count              7.640000e+02  7.640000e+02  \n",
       "mean               1.162537e-17 -1.209039e-16  \n",
       "std                1.000655e+00  1.000655e+00  \n",
       "min               -1.340168e+00 -1.036585e+00  \n",
       "25%               -7.557450e-01 -7.814187e-01  \n",
       "50%               -3.033454e-01 -3.561417e-01  \n",
       "75%                5.900118e-01  6.007316e-01  \n",
       "max                2.558425e+00  4.066739e+00  "
      ]
     },
     "execution_count": 28,
     "metadata": {},
     "output_type": "execute_result"
    }
   ],
   "source": [
    "X.describe()"
   ]
  },
  {
   "cell_type": "code",
   "execution_count": 29,
   "metadata": {},
   "outputs": [],
   "source": [
    "sns.set_style('white')\n",
    "sns.set_palette('tab10')\n",
    "from sklearn.metrics import classification_report, ConfusionMatrixDisplay, accuracy_score, confusion_matrix\n",
    "def model_accuracy(model, X_train, X_test, y_train, y_test):\n",
    "    model.fit(X_train, y_train)\n",
    "    pred = model.predict(X_test)\n",
    "    print('accuracy_score = ', accuracy_score(y_test, pred))\n",
    "    print(classification_report(y_test,pred))\n",
    "    print('confusion_matrix:\\n ' , confusion_matrix(y_test, pred))\n",
    "    disp = ConfusionMatrixDisplay(confusion_matrix(y_test, pred), display_labels=['No', 'Yes'])\n",
    "    disp.plot()\n",
    "    \n"
   ]
  },
  {
   "cell_type": "markdown",
   "metadata": {},
   "source": [
    "## Logistic Regression"
   ]
  },
  {
   "cell_type": "code",
   "execution_count": 30,
   "metadata": {},
   "outputs": [
    {
     "name": "stdout",
     "output_type": "stream",
     "text": [
      "accuracy_score =  0.7843137254901961\n",
      "              precision    recall  f1-score   support\n",
      "\n",
      "           0       0.80      0.90      0.85       101\n",
      "           1       0.74      0.56      0.64        52\n",
      "\n",
      "    accuracy                           0.78       153\n",
      "   macro avg       0.77      0.73      0.74       153\n",
      "weighted avg       0.78      0.78      0.78       153\n",
      "\n",
      "confusion_matrix:\n",
      "  [[91 10]\n",
      " [23 29]]\n"
     ]
    },
    {
     "data": {
      "image/png": "[encoded data removed]",
      "text/plain": [
       "<Figure size 432x288 with 2 Axes>"
      ]
     },
     "metadata": {},
     "output_type": "display_data"
    }
   ],
   "source": [
    "from sklearn.linear_model import LogisticRegression\n",
    "model1 = LogisticRegression(max_iter=180)\n",
    "model_accuracy(model1, X_train, X_test, y_train, y_test)\n"
   ]
  },
  {
   "cell_type": "markdown",
   "metadata": {},
   "source": [
    "## Random Forest"
   ]
  },
  {
   "cell_type": "code",
   "execution_count": 31,
   "metadata": {},
   "outputs": [
    {
     "name": "stdout",
     "output_type": "stream",
     "text": [
      "accuracy_score =  0.8104575163398693\n",
      "              precision    recall  f1-score   support\n",
      "\n",
      "           0       0.82      0.91      0.86       101\n",
      "           1       0.78      0.62      0.69        52\n",
      "\n",
      "    accuracy                           0.81       153\n",
      "   macro avg       0.80      0.76      0.78       153\n",
      "weighted avg       0.81      0.81      0.80       153\n",
      "\n",
      "confusion_matrix:\n",
      "  [[92  9]\n",
      " [20 32]]\n"
     ]
    },
    {
     "data": {
      "image/png": "[encoded data removed]",
      "text/plain": [
       "<Figure size 432x288 with 2 Axes>"
      ]
     },
     "metadata": {},
     "output_type": "display_data"
    }
   ],
   "source": [
    "from sklearn.ensemble import RandomForestClassifier\n",
    "model2 = RandomForestClassifier(random_state=2)\n",
    "model2.fit(X_train, y_train)\n",
    "model_accuracy(model2, X_train, X_test, y_train, y_test)\n"
   ]
  },
  {
   "cell_type": "markdown",
   "metadata": {},
   "source": [
    "## Gaussian Naive Bayes"
   ]
  },
  {
   "cell_type": "code",
   "execution_count": 32,
   "metadata": {},
   "outputs": [
    {
     "name": "stdout",
     "output_type": "stream",
     "text": [
      "accuracy_score =  0.7973856209150327\n",
      "              precision    recall  f1-score   support\n",
      "\n",
      "           0       0.82      0.89      0.85       101\n",
      "           1       0.74      0.62      0.67        52\n",
      "\n",
      "    accuracy                           0.80       153\n",
      "   macro avg       0.78      0.75      0.76       153\n",
      "weighted avg       0.79      0.80      0.79       153\n",
      "\n",
      "confusion_matrix:\n",
      "  [[90 11]\n",
      " [20 32]]\n"
     ]
    },
    {
     "data": {
      "image/png": "[encoded data removed]",
      "text/plain": [
       "<Figure size 432x288 with 2 Axes>"
      ]
     },
     "metadata": {},
     "output_type": "display_data"
    }
   ],
   "source": [
    "from sklearn.naive_bayes import GaussianNB\n",
    "model3 = GaussianNB()\n",
    "model3.fit(X_train, y_train)\n",
    "model_accuracy(model3, X_train, X_test, y_train, y_test)\n"
   ]
  },
  {
   "cell_type": "markdown",
   "metadata": {},
   "source": [
    "# Conclusion:\n",
    "Random Forest Model gives best accuracy score.  \n",
    "Therefore it is used as the final model.  "
   ]
  },
  {
   "cell_type": "code",
   "execution_count": 33,
   "metadata": {},
   "outputs": [
    {
     "data": {
      "text/html": [
       "<div>\n",
       "<style scoped>\n",
       "    .dataframe tbody tr th:only-of-type {\n",
       "        vertical-align: middle;\n",
       "    }\n",
       "\n",
       "    .dataframe tbody tr th {\n",
       "        vertical-align: top;\n",
       "    }\n",
       "\n",
       "    .dataframe thead th {\n",
       "        text-align: right;\n",
       "    }\n",
       "</style>\n",
       "<table border=\"1\" class=\"dataframe\">\n",
       "  <thead>\n",
       "    <tr style=\"text-align: right;\">\n",
       "      <th></th>\n",
       "      <th>Pregnancies</th>\n",
       "      <th>Glucose</th>\n",
       "      <th>BloodPressure</th>\n",
       "      <th>BMI</th>\n",
       "      <th>DiabetesPedigreeFunction</th>\n",
       "      <th>Age</th>\n",
       "    </tr>\n",
       "    <tr>\n",
       "      <th>Outcome</th>\n",
       "      <th></th>\n",
       "      <th></th>\n",
       "      <th></th>\n",
       "      <th></th>\n",
       "      <th></th>\n",
       "      <th></th>\n",
       "    </tr>\n",
       "  </thead>\n",
       "  <tbody>\n",
       "    <tr>\n",
       "      <th>0</th>\n",
       "      <td>3.298000</td>\n",
       "      <td>110.173200</td>\n",
       "      <td>69.443600</td>\n",
       "      <td>30.869016</td>\n",
       "      <td>0.419913</td>\n",
       "      <td>31.190000</td>\n",
       "    </tr>\n",
       "    <tr>\n",
       "      <th>1</th>\n",
       "      <td>4.712121</td>\n",
       "      <td>141.467424</td>\n",
       "      <td>72.781061</td>\n",
       "      <td>35.231530</td>\n",
       "      <td>0.532052</td>\n",
       "      <td>36.969697</td>\n",
       "    </tr>\n",
       "  </tbody>\n",
       "</table>\n",
       "</div>"
      ],
      "text/plain": [
       "         Pregnancies     Glucose  BloodPressure        BMI  \\\n",
       "Outcome                                                      \n",
       "0           3.298000  110.173200      69.443600  30.869016   \n",
       "1           4.712121  141.467424      72.781061  35.231530   \n",
       "\n",
       "         DiabetesPedigreeFunction        Age  \n",
       "Outcome                                       \n",
       "0                        0.419913  31.190000  \n",
       "1                        0.532052  36.969697  "
      ]
     },
     "execution_count": 33,
     "metadata": {},
     "output_type": "execute_result"
    }
   ],
   "source": [
    "df.groupby('Outcome').mean()"
   ]
  },
  {
   "cell_type": "markdown",
   "metadata": {},
   "source": [
    "# Model Building and prediction"
   ]
  },
  {
   "cell_type": "code",
   "execution_count": 34,
   "metadata": {},
   "outputs": [],
   "source": [
    "# def diabetes_prediction(model):\n",
    "#     preg = int(input('No. of pregnancies: '))\n",
    "#     glu = int(input('Plasma glucose concentration a 2 hours in an oral glucose tolerance test: '))\n",
    "#     b_pres = int(input('Diastolic blood pressure (mm Hg): '))\n",
    "#     bmi = float(input('Body mass index (weight in kg/(height in m)^2): ')) \n",
    "#     pedi = float(input('Diabetes Pedigree Function: '))\n",
    "#     age = int(input('Age: '))\n",
    "    \n",
    "#     values = [[preg,glu,b_pres,bmi,pedi, age]]\n",
    "#     pred = model.predict(values)\n",
    "#     print('\\nPrediction: ')\n",
    "#     for i in pred:\n",
    "#         if i==0:\n",
    "#             print('Not Diabetic')\n",
    "#         elif i==1:\n",
    "#             print('Diabetic')\n",
    "            \n",
    "# Rand_forest = RandomForestClassifier()\n",
    "# Rand_forest.fit(X,y)\n",
    "# diabetes_prediction(Rand_forest)\n",
    "    \n"
   ]
  },
  {
   "cell_type": "markdown",
   "metadata": {},
   "source": [
    "# Exporting the model\n"
   ]
  },
  {
   "cell_type": "code",
   "execution_count": 37,
   "metadata": {},
   "outputs": [],
   "source": [
    "import pickle\n",
    "model = RandomForestClassifier()\n",
    "model.fit(X,y)\n",
    "pickle.dump(model, open('model.pkl', 'wb'))\n"
   ]
  },
  {
   "cell_type": "code",
   "execution_count": null,
   "metadata": {},
   "outputs": [],
   "source": []
  }
 ],
 "metadata": {
  "interpreter": {
   "hash": "86b546423b925b5bc284eb5d1dceb0285aeb675e451ac98815d3c193c225ec00"
  },
  "kernelspec": {
   "display_name": "Python 3.9.5 64-bit ('myenv': venv)",
   "name": "python3"
  },
  "language_info": {
   "codemirror_mode": {
    "name": "ipython",
    "version": 3
   },
   "file_extension": ".py",
   "mimetype": "text/x-python",
   "name": "python",
   "nbconvert_exporter": "python",
   "pygments_lexer": "ipython3",
   "version": "3.9.5"
  }
 },
 "nbformat": 4,
 "nbformat_minor": 2
}
